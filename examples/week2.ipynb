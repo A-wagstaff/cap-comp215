{
  "nbformat": 4,
  "nbformat_minor": 0,
  "metadata": {
    "colab": {
      "name": "week2.ipynb",
      "provenance": [],
      "authorship_tag": "ABX9TyNi/5UwZvYZrnTVkw/o6rgp",
      "include_colab_link": true
    },
    "kernelspec": {
      "name": "python3",
      "display_name": "Python 3"
    },
    "language_info": {
      "name": "python"
    }
  },
  "cells": [
    {
      "cell_type": "markdown",
      "metadata": {
        "id": "view-in-github",
        "colab_type": "text"
      },
      "source": [
        "<a href=\"https://colab.research.google.com/github/powderflask/cap-comp215/blob/main/examples/week2.ipynb\" target=\"_parent\"><img src=\"https://colab.research.google.com/assets/colab-badge.svg\" alt=\"Open In Colab\"/></a>"
      ]
    },
    {
      "cell_type": "markdown",
      "source": [
        "# Review - Tuples, Lists, Dictionaries\n",
        "This is our week 2 examples notebook and will be available on Github from the powderflask/cap-comp215 repository.\n",
        "\n",
        "As usual, the first code block just imports the modules we will use."
      ],
      "metadata": {
        "id": "WBMC0GrjNRTM"
      }
    },
    {
      "cell_type": "code",
      "execution_count": 18,
      "metadata": {
        "id": "C1a6aDXAM0WM"
      },
      "outputs": [],
      "source": [
        "import datetime, json, requests\n",
        "import matplotlib.pyplot as plt\n",
        "import  matplotlib.dates as mdates\n",
        "from pprint import pprint"
      ]
    },
    {
      "cell_type": "markdown",
      "source": [
        "## A simple model\n",
        "How many students on campus are expected to have Covid?\n",
        "Data up to Dec. 31 --> question is for Jan. 10\n",
        "\n",
        "What data do we need?  What data is avaiable?\n",
        "Data from VC health region - number of active case\n",
        "Demographic for student - in this demographic\n",
        "Transmission Rate of current variant (R) - how fast is it doubling?\n",
        "Total student population size - how many?\n",
        "Proportion of students who are Cap students\n",
        "\n",
        "----------------\n",
        "\n",
        "* N cases in VC H.R. in 21 - 30 age range\n",
        "* P people in VC HR in 21 - 30 age range\n",
        "* I = N/P * 100% --> propotion of infections in the age range\n",
        "* S total students at Cap\n",
        "* I * S --> number of infections among Cap students\n",
        "* project that 10 days into future based on R\n",
        "* R is from historical doubling rate over previous D days\n"
      ],
      "metadata": {
        "id": "k70NJ-JTNwYN"
      }
    },
    {
      "cell_type": "code",
      "source": [
        "projection = 10             # project 10 days into future\n",
        "doubling_time = 3           # doubling time for Omicron in days (world wide)\n",
        "population_size = 1219436   # total pop. in VC HR\n",
        "prop_in_20_34 = 0.27        # proportion in target demographic\n",
        "pop_in_20_34 = population_size * prop_in_20_34\n",
        "number_cases = 4072         # num. active cases in VC HR on Dec. 31 2021\n",
        "number_cases_in_20_34 = number_cases * prop_in_20_34\n",
        "\n",
        "cap_students = 11500        # num. students attending Cap\n",
        "\n",
        "prop_infected = number_cases_in_20_34 / pop_in_20_34\n",
        "num_infected = prop_infected * cap_students    # num cap students infected Dec. 31\n",
        "num_infected_projection = num_infected*2**(projection/doubling_time)\n",
        "num_infected_projection"
      ],
      "metadata": {
        "id": "HZSz8IftqJ72",
        "colab": {
          "base_uri": "https://localhost:8080/"
        },
        "outputId": "5b74860f-94af-483c-f4a8-4ef27ba7dd4a"
      },
      "execution_count": 39,
      "outputs": [
        {
          "output_type": "execute_result",
          "data": {
            "text/plain": [
              "387.0614475838149"
            ]
          },
          "metadata": {},
          "execution_count": 39
        }
      ]
    },
    {
      "cell_type": "code",
      "source": [
        "query = 'https://api.opencovid.ca/timeseries?stat=cases&loc=595&after=01-12-2021'\n",
        "\n",
        "response = requests.request(\"GET\", query, headers={}, data={})\n",
        "result = json.loads(response.text)\n",
        "date_strings = [daily['date_report'] for daily in result['cases']]\n",
        "dates = [datetime.datetime.strptime(date, '%d-%m-%Y').date() for date in date_strings]\n",
        "cases = [daily['cases'] for daily in result['cases']]\n"
      ],
      "metadata": {
        "id": "4APm1UIUsPd_"
      },
      "execution_count": 20,
      "outputs": []
    },
    {
      "cell_type": "code",
      "source": [
        "def format_date_axis(ax):\n",
        "  \"\"\" format the dates shown on the x-axis of given axes, ax  \"\"\"\n",
        "  locator = mdates.AutoDateLocator(minticks=10, maxticks=20)\n",
        "  formatter = mdates.ConciseDateFormatter(locator)\n",
        "  ax.xaxis.set_major_locator(locator)\n",
        "  ax.xaxis.set_major_formatter(formatter)\n",
        "\n",
        "fig, ax = plt.subplots()\n",
        "format_date_axis(ax)\n",
        "ax.plot(dates, cases, label='Daily Cases')  # Plot some data on the axes.\n",
        "ax.set_xlabel('Date')  # Add an x-label to the axes.\n",
        "ax.set_ylabel('confirmed casess')  # Add a y-label to the axes.\n",
        "ax.set_title(\"Covid-19 case counts for Van. Coastal\")  # Add a title to the axes.\n",
        "ax.legend();"
      ],
      "metadata": {
        "colab": {
          "base_uri": "https://localhost:8080/",
          "height": 315
        },
        "id": "Fc5wJrnXrCK2",
        "outputId": "7c4ea1a8-738a-455d-b031-b0801807bc82"
      },
      "execution_count": 21,
      "outputs": [
        {
          "output_type": "display_data",
          "data": {
            "image/png": "[encoded data removed]",
            "text/plain": [
              "<Figure size 432x288 with 1 Axes>"
            ]
          },
          "metadata": {
            "needs_background": "light"
          }
        }
      ]
    }
  ]
}