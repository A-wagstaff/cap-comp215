{
 "cells": [
  {
   "cell_type": "markdown",
   "source": [
    "# Lab 9: Spatial-Temporal patterns of Natural Disturbance\n",
    "Building on the ForestFire model from previous lab, compute the fire iternval distribution (times between fire intervals) and the patch size distribution (size of forested patches in steady-state landscape pattern)\n"
   ],
   "metadata": {
    "collapsed": false
   }
  },
  {
   "cell_type": "code",
   "execution_count": null,
   "outputs": [],
   "source": [
    "import numpy as np"
   ],
   "metadata": {
    "collapsed": false,
    "pycharm": {
     "name": "#%%\n"
    }
   }
  },
  {
   "cell_type": "markdown",
   "source": [
    "### Create Continuous Patches\n",
    "This is a surprisingly challenging problem to solve in the general case given how good our visual system is at identifying them!\n",
    "The idea I had here was to start by giving each occupied cell a unique value, then \"grow\" patches from occupied cells by allowing the smallest of these unique values to propogate to neighbouring cells.  Repeat until the propogation is finished.\n"
   ],
   "metadata": {
    "collapsed": false
   }
  },
  {
   "cell_type": "code",
   "execution_count": null,
   "metadata": {
    "collapsed": true
   },
   "outputs": [],
   "source": [
    "neighbourhood = np.array([\n",
    "    [0, 1, 0],\n",
    "    [1, 1, 1],\n",
    "    [0, 1, 0],\n",
    "])\n",
    "\n",
    "def min_neighbour(a):\n",
    "    \"\"\" Return the smallest non-zero neighbourhood value or 0 if centre cell is a zero \"\"\"\n",
    "    p = a*neighbourhood\n",
    "    centre = tuple(d//2 for d in a.shape)\n",
    "    return np.min(p[p>0]) if a[centre] else 0\n",
    "\n",
    "def consolidate(array):\n",
    "    \"\"\" return copy of array with adjacent cells consolidated into a patch with the lowest value among occupied neighbours \"\"\"\n",
    "    rows, cols = array.shape\n",
    "    k = neighbourhood.shape[0]\n",
    "    array = np.pad(array, 1, 'constant')\n",
    "    return np.array([\n",
    "        [min_neighbour(array[row:row+k, col:col+k]) for col in range(cols) ]\n",
    "            for row in range(rows)\n",
    "    ])\n",
    "\n",
    "def patchify(array, category):\n",
    "    \"\"\" Return an array with each contiguous patch identified by a unique integer\n",
    "    array:  array of int categorical values\n",
    "    category: the int category value to identify patches\n",
    "\n",
    "    return: array of same shape with a unique value identifying cells in each patch and zeros elsewhere\n",
    "    \"\"\"\n",
    "    patches = np.zeros(array.shape, dtype=np.uint)\n",
    "    patches[array==category] = range(1, len(array[array==category])+1)\n",
    "\n",
    "    patches_growing = np.array([True,])\n",
    "    while np.any(patches_growing):\n",
    "        prev_patches = patches\n",
    "        patches = consolidate(prev_patches)\n",
    "        patches_growing = patches != prev_patches  # patches are growning until consolidate algorithm stablaizes.\n",
    "\n",
    "    return patches"
   ]
  }
 ],
 "metadata": {
  "kernelspec": {
   "display_name": "Python 3",
   "language": "python",
   "name": "python3"
  },
  "language_info": {
   "codemirror_mode": {
    "name": "ipython",
    "version": 2
   },
   "file_extension": ".py",
   "mimetype": "text/x-python",
   "name": "python",
   "nbconvert_exporter": "python",
   "pygments_lexer": "ipython2",
   "version": "2.7.6"
  }
 },
 "nbformat": 4,
 "nbformat_minor": 0
}