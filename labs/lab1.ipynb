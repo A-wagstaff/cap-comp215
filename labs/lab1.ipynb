{
  "cells": [
    {
      "cell_type": "markdown",
      "metadata": {
        "collapsed": true,
        "pycharm": {
          "name": "#%% md\n"
        },
        "id": "UO4namhuBH3l"
      },
      "source": [
        "COMP 215 - LAB 1\n",
        "----------------\n",
        "#### Name:\n",
        "#### Date:\n",
        "This lab exercise is mostly to introduce some of the power in Jupyter Notebooks.\n",
        "Note that a Notebook is composed of \"cells\" - some are \"text\", like this one, while others are \"code\"\n",
        "\n",
        "As will be usual, the fist code cell, below, simply imports all the modules we'll be using..."
      ]
    },
    {
      "cell_type": "code",
      "source": [
        "import datetime, json, requests\n",
        "import matplotlib.pyplot as plt\n",
        "import  matplotlib.dates as mdates\n",
        "from pprint import pprint"
      ],
      "metadata": {
        "pycharm": {
          "name": "#%%\n"
        },
        "id": "DqSJNdSdBH3n"
      },
      "execution_count": 19,
      "outputs": []
    },
    {
      "cell_type": "markdown",
      "source": [
        "Now, let's fetch some Covid-19 daily case-count data from the Open Covid API:  https://opencovid.ca/api/\n",
        "\n",
        "Query:\n",
        "  - `stat=cases`        # the type of data to fetch\n",
        "  - `loc=BC`            # the location to fetch data for\n",
        "  - `after=2022-11-01`  # since the 1st of november (note date format:  yyyy-mm-dd)"
      ],
      "metadata": {
        "collapsed": false,
        "id": "0rnf67FTBH3p"
      }
    },
    {
      "cell_type": "code",
      "execution_count": 27,
      "outputs": [
        {
          "output_type": "stream",
          "name": "stdout",
          "text": [
            "<class 'str'> {\"data\":{\"cases\":[{\"name\":\"cases\",\"region\":\"BC\",\"date\":\"2022-11-01\",\"value\":387876,\"value_daily\":62},{\"name\":\"cases\",\"region\":\"BC\",\"date\":\"2022-11-02\",\"value\":387958,\"value_daily\":82},{\"name\":\"cases\",\"region\":\"BC\",\"date\":\"2022-11-03\",\"value\":387993,\"value_daily\":35},{\"name\":\"cases\",\"region\":\"BC\",\"date\":\"2022-11-04\",\"value\":388053,\"value_daily\":60},{\"name\":\"cases\",\"region\":\"BC\",\"date\":\"2022-11-05\",\"value\":388113,\"value_daily\":60},{\"name\":\"cases\",\"region\":\"BC\",\"date\":\"2022-11-06\",\"value\":388177,\"value_daily\":64},{\"name\":\"cases\",\"region\":\"BC\",\"date\":\"2022-11-07\",\"value\":388247,\"value_daily\":70},{\"name\":\"cases\",\"region\":\"BC\",\"date\":\"2022-11-08\",\"value\":388321,\"value_daily\":74},{\"name\":\"cases\",\"region\":\"BC\",\"date\":\"2022-11-09\",\"value\":388399,\"value_daily\":78},{\"name\":\"cases\",\"region\":\"BC\",\"date\":\"2022-11-10\",\"value\":388475,\"value_daily\":76},{\"name\":\"cases\",\"region\":\"BC\",\"date\":\"2022-11-11\",\"value\":388537,\"value_daily\":62},{\"name\":\"cases\",\"region\":\"BC\",\"date\":\"2022-11-12\",\"value\":388597,\"value_daily\":60},{\"name\":\"cases\",\"region\":\"BC\",\"date\":\"2022-11-13\",\"value\":388658,\"value_daily\":61},{\"name\":\"cases\",\"region\":\"BC\",\"date\":\"2022-11-14\",\"value\":388713,\"value_daily\":55},{\"name\":\"cases\",\"region\":\"BC\",\"date\":\"2022-11-15\",\"value\":388803,\"value_daily\":90},{\"name\":\"cases\",\"region\":\"BC\",\"date\":\"2022-11-16\",\"value\":388875,\"value_daily\":72},{\"name\":\"cases\",\"region\":\"BC\",\"date\":\"2022-11-17\",\"value\":388939,\"value_daily\":64},{\"name\":\"cases\",\"region\":\"BC\",\"date\":\"2022-11-18\",\"value\":389030,\"value_daily\":91},{\"name\":\"cases\",\"region\":\"BC\",\"date\":\"2022-11-19\",\"value\":389095,\"value_daily\":65},{\"name\":\"cases\",\"region\":\"BC\",\"date\":\"2022-11-20\",\"value\":389170,\"value_daily\":75},{\"name\":\"cases\",\"region\":\"BC\",\"date\":\"2022-11-21\",\"value\":389276,\"value_daily\":106},{\"name\":\"cases\",\"region\":\"BC\",\"date\":\"2022-11-22\",\"value\":389358,\"value_daily\":82},{\"name\":\"cases\",\"region\":\"BC\",\"date\":\"2022-11-23\",\"value\":389430,\"value_daily\":72},{\"name\":\"cases\",\"region\":\"BC\",\"date\":\"2022-11-24\",\"value\":389537,\"value_daily\":107},{\"name\":\"cases\",\"region\":\"BC\",\"date\":\"2022-11-25\",\"value\":389624,\"value_daily\":87},{\"name\":\"cases\",\"region\":\"BC\",\"date\":\"2022-11-26\",\"value\":389699,\"value_daily\":75},{\"name\":\"cases\",\"region\":\"BC\",\"date\":\"2022-11-27\",\"value\":389768,\"value_daily\":69},{\"name\":\"cases\",\"region\":\"BC\",\"date\":\"2022-11-28\",\"value\":389848,\"value_daily\":80},{\"name\":\"cases\",\"region\":\"BC\",\"date\":\"2022-11-29\",\"value\":389945,\"value_daily\":97},{\"name\":\"cases\",\"region\":\"BC\",\"date\":\"2022-11-30\",\"value\":390024,\"value_daily\":79},{\"name\":\"cases\",\"region\":\"BC\",\"date\":\"2022-12-01\",\"value\":390103,\"value_daily\":79},{\"name\":\"cases\",\"region\":\"BC\",\"date\":\"2022-12-02\",\"value\":390179,\"value_daily\":76},{\"name\":\"cases\",\"region\":\"BC\",\"date\":\"2022-12-03\",\"value\":390238,\"value_daily\":59},{\"name\":\"cases\",\"region\":\"BC\",\"date\":\"2022-12-04\",\"value\":390299,\"value_daily\":61},{\"name\":\"cases\",\"region\":\"BC\",\"date\":\"2022-12-05\",\"value\":390392,\"value_daily\":93},{\"name\":\"cases\",\"region\":\"BC\",\"date\":\"2022-12-06\",\"value\":390487,\"value_daily\":95},{\"name\":\"cases\",\"region\":\"BC\",\"date\":\"2022-12-07\",\"value\":390596,\"value_daily\":109},{\"name\":\"cases\",\"region\":\"BC\",\"date\":\"2022-12-08\",\"value\":390694,\"value_daily\":98},{\"name\":\"cases\",\"region\":\"BC\",\"date\":\"2022-12-09\",\"value\":390797,\"value_daily\":103},{\"name\":\"cases\",\"region\":\"BC\",\"date\":\"2022-12-10\",\"value\":390897,\"value_daily\":100},{\"name\":\"cases\",\"region\":\"BC\",\"date\":\"2022-12-11\",\"value\":390984,\"value_daily\":87},{\"name\":\"cases\",\"region\":\"BC\",\"date\":\"2022-12-12\",\"value\":391083,\"value_daily\":99},{\"name\":\"cases\",\"region\":\"BC\",\"date\":\"2022-12-13\",\"value\":391171,\"value_daily\":88},{\"name\":\"cases\",\"region\":\"BC\",\"date\":\"2022-12-14\",\"value\":391258,\"value_daily\":87},{\"name\":\"cases\",\"region\":\"BC\",\"date\":\"2022-12-15\",\"value\":391343,\"value_daily\":85},{\"name\":\"cases\",\"region\":\"BC\",\"date\":\"2022-12-16\",\"value\":391434,\"value_daily\":91},{\"name\":\"cases\",\"region\":\"BC\",\"date\":\"2022-12-17\",\"value\":391506,\"value_daily\":72}]},\"version\":\"2023-01-02 22:08 EST\"}\n"
          ]
        }
      ],
      "source": [
        "query = 'https://api.opencovid.ca/timeseries?stat=cases&loc=BC&after=2022-11-01'\n",
        "\n",
        "response = requests.request(\"GET\", query, headers={}, data={})\n",
        "print(type(response.text), response.text)"
      ],
      "metadata": {
        "pycharm": {
          "name": "#%%\n"
        },
        "id": "Al2T68b2BH3p",
        "outputId": "54e82da0-d744-4f30-efbd-1e9c08126b7b",
        "colab": {
          "base_uri": "https://localhost:8080/"
        }
      }
    },
    {
      "cell_type": "markdown",
      "source": [
        "Notice that the response looks like a dictionary, but is actually just a string of text (most data is exchanged on the web as plain text!).  This particular data format is called \"[JSON](https://en.wikipedia.org/wiki/JSON)\" \n",
        "\n",
        "The `json.loads` function \"parses\" such text and loads the data into a dictionary..."
      ],
      "metadata": {
        "collapsed": false,
        "pycharm": {
          "name": "#%% md\n"
        },
        "id": "np4HQTmABH3q"
      }
    },
    {
      "cell_type": "code",
      "execution_count": 21,
      "outputs": [],
      "source": [
        "result = json.loads(response.text)\n",
        "# pprint(result) # remove this comment and re-run this cell to see the resulting dictionary"
      ],
      "metadata": {
        "pycharm": {
          "name": "#%%\n"
        },
        "id": "M5wV1C_0BH3q"
      }
    },
    {
      "cell_type": "markdown",
      "source": [
        "Next we use \"list comprehension\" to extract the list of dates and associated cases into \"parallel lists\"\n",
        "\n",
        "Notice how we convert the date strings, using strptime, into a real date objects so they are easier to work with (format: yyyy-mm-dd)"
      ],
      "metadata": {
        "collapsed": false,
        "pycharm": {
          "name": "#%% md\n"
        },
        "id": "dAXX9kuZBH3r"
      }
    },
    {
      "cell_type": "code",
      "execution_count": 26,
      "outputs": [
        {
          "output_type": "stream",
          "name": "stdout",
          "text": [
            "[datetime.datetime(2022, 11, 1, 0, 0), datetime.datetime(2022, 11, 2, 0, 0), datetime.datetime(2022, 11, 3, 0, 0), datetime.datetime(2022, 11, 4, 0, 0), datetime.datetime(2022, 11, 5, 0, 0), datetime.datetime(2022, 11, 6, 0, 0), datetime.datetime(2022, 11, 7, 0, 0), datetime.datetime(2022, 11, 8, 0, 0), datetime.datetime(2022, 11, 9, 0, 0), datetime.datetime(2022, 11, 10, 0, 0), datetime.datetime(2022, 11, 11, 0, 0), datetime.datetime(2022, 11, 12, 0, 0), datetime.datetime(2022, 11, 13, 0, 0), datetime.datetime(2022, 11, 14, 0, 0), datetime.datetime(2022, 11, 15, 0, 0), datetime.datetime(2022, 11, 16, 0, 0), datetime.datetime(2022, 11, 17, 0, 0), datetime.datetime(2022, 11, 18, 0, 0), datetime.datetime(2022, 11, 19, 0, 0), datetime.datetime(2022, 11, 20, 0, 0), datetime.datetime(2022, 11, 21, 0, 0), datetime.datetime(2022, 11, 22, 0, 0), datetime.datetime(2022, 11, 23, 0, 0), datetime.datetime(2022, 11, 24, 0, 0), datetime.datetime(2022, 11, 25, 0, 0), datetime.datetime(2022, 11, 26, 0, 0), datetime.datetime(2022, 11, 27, 0, 0), datetime.datetime(2022, 11, 28, 0, 0), datetime.datetime(2022, 11, 29, 0, 0), datetime.datetime(2022, 11, 30, 0, 0), datetime.datetime(2022, 12, 1, 0, 0), datetime.datetime(2022, 12, 2, 0, 0), datetime.datetime(2022, 12, 3, 0, 0), datetime.datetime(2022, 12, 4, 0, 0), datetime.datetime(2022, 12, 5, 0, 0), datetime.datetime(2022, 12, 6, 0, 0), datetime.datetime(2022, 12, 7, 0, 0), datetime.datetime(2022, 12, 8, 0, 0), datetime.datetime(2022, 12, 9, 0, 0), datetime.datetime(2022, 12, 10, 0, 0), datetime.datetime(2022, 12, 11, 0, 0), datetime.datetime(2022, 12, 12, 0, 0), datetime.datetime(2022, 12, 13, 0, 0), datetime.datetime(2022, 12, 14, 0, 0), datetime.datetime(2022, 12, 15, 0, 0), datetime.datetime(2022, 12, 16, 0, 0), datetime.datetime(2022, 12, 17, 0, 0)]\n",
            "[62, 82, 35, 60, 60, 64, 70, 74, 78, 76, 62, 60, 61, 55, 90, 72, 64, 91, 65, 75, 106, 82, 72, 107, 87, 75, 69, 80, 97, 79, 79, 76, 59, 61, 93, 95, 109, 98, 103, 100, 87, 99, 88, 87, 85, 91, 72]\n"
          ]
        }
      ],
      "source": [
        "cases = result['data']['cases']\n",
        "date_strings = [daily['date'] for daily in cases]\n",
        "dates = [datetime.datetime.strptime(date, '%Y-%m-%d') for date in date_strings]\n",
        "cases = [daily['value_daily'] for daily in cases]\n",
        "print(dates)\n",
        "print(cases)"
      ],
      "metadata": {
        "pycharm": {
          "name": "#%%\n"
        },
        "id": "JOFe4vNCBH3s",
        "outputId": "0d8038bd-8fff-40fe-fbb3-5fabe3e712a2",
        "colab": {
          "base_uri": "https://localhost:8080/"
        }
      }
    },
    {
      "cell_type": "markdown",
      "source": [
        "## Exercise 1\n",
        "\n",
        "In the code cell below, re-write each of the 3 \"list comprehensions\" above as a loop so you understand how they work.\n",
        "\n",
        "Notice that a \"list comprehension\" is a compact way to write a \"list accumlator\" algorithm (and more efficient too!)"
      ],
      "metadata": {
        "collapsed": false,
        "pycharm": {
          "name": "#%% md\n"
        },
        "id": "koVKiju9BH3s"
      }
    },
    {
      "cell_type": "code",
      "execution_count": 23,
      "outputs": [],
      "source": [
        "# Your code here\n"
      ],
      "metadata": {
        "pycharm": {
          "name": "#%%\n"
        },
        "id": "aa5xLcWEBH3t"
      }
    },
    {
      "cell_type": "markdown",
      "source": [
        "Finally, we'll plot the (dates,cases) data as a nice x-y line graph.\n",
        "\n",
        "The code to format the x-axis labels is taken from https://matplotlib.org/stable/gallery/ticks/date_concise_formatter.html\n",
        "\n"
      ],
      "metadata": {
        "collapsed": false,
        "id": "2ow28BuTBH3u"
      }
    },
    {
      "cell_type": "code",
      "execution_count": 24,
      "outputs": [
        {
          "output_type": "display_data",
          "data": {
            "text/plain": [
              "<Figure size 432x288 with 1 Axes>"
            ],
            "image/png": "[encoded data removed]"
          },
          "metadata": {
            "needs_background": "light"
          }
        }
      ],
      "source": [
        "def format_date_axis(ax):\n",
        "  \"\"\" format the dates shown on the x-axis of given axes, ax  \"\"\"\n",
        "  locator = mdates.AutoDateLocator(minticks=10, maxticks=20)\n",
        "  formatter = mdates.ConciseDateFormatter(locator)\n",
        "  ax.xaxis.set_major_locator(locator)\n",
        "  ax.xaxis.set_major_formatter(formatter)\n",
        "\n",
        "fig, ax = plt.subplots()\n",
        "format_date_axis(ax)\n",
        "ax.plot(dates, cases, label='Daily Cases')  # Plot some data on the axes.\n",
        "ax.set_xlabel('Date')  # Add an x-label to the axes.\n",
        "ax.set_ylabel('confirmed casess')  # Add a y-label to the axes.\n",
        "ax.set_title(\"Covid-19 case counts for BC\")  # Add a title to the axes.\n",
        "ax.legend();"
      ],
      "metadata": {
        "pycharm": {
          "name": "#%%\n"
        },
        "id": "FgwPH8mTBH3v",
        "outputId": "79dcd8b4-88df-4bfd-ae89-053b20ccd752",
        "colab": {
          "base_uri": "https://localhost:8080/",
          "height": 295
        }
      }
    },
    {
      "cell_type": "markdown",
      "source": [
        "## Exercise 2\n",
        "\n",
        "Repeat the analysis above, but this time only for Vancouver Coastal Health Region.\n",
        "\n",
        " * Try to modify as little code as you can (should be just a few characters), and re-run the analysis\n",
        " * You can get the ***hruid*** location code for each health region here:  https://github.com/ccodwg/CovidTimelineCanada/blob/main/geo/hr.csv\n",
        " * Can you generalize the code in the 2nd code cell to make it easier to repeat the analysis for different locations?  What about for different dates?\n",
        "\n",
        "## Exercise 3\n",
        "\n",
        "Notice that the data plot looks quite erratic.  These swings most likely represent artifacts attributable to the reporting process rather than actual changes in infection rates.\n",
        "\n",
        " * One way to fix this is is to \"smooth\" the date with a \"7-day rolling average\".\n",
        "Each day, we take the average of the previous 7 days cases.\n",
        " * Add new code cell below, compute the 7-day rolling average for each day from the cases list.\n",
        " * Create a plot to display the rolling average data and compare your plot with the one produced above.\n",
        "\n",
        " Hints: you are free to do this however you like, but a quite elegant solution uses list comprehension, range, and slices\n"
      ],
      "metadata": {
        "collapsed": false,
        "id": "qqeTORnvBH3v"
      }
    }
  ],
  "metadata": {
    "kernelspec": {
      "display_name": "Python 3",
      "language": "python",
      "name": "python3"
    },
    "language_info": {
      "codemirror_mode": {
        "name": "ipython",
        "version": 2
      },
      "file_extension": ".py",
      "mimetype": "text/x-python",
      "name": "python",
      "nbconvert_exporter": "python",
      "pygments_lexer": "ipython2",
      "version": "2.7.6"
    },
    "colab": {
      "name": "lab1.ipynb",
      "provenance": []
    }
  },
  "nbformat": 4,
  "nbformat_minor": 0
}